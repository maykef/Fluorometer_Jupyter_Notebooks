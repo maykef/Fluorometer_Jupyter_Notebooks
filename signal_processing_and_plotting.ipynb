{
 "cells": [
  {
   "cell_type": "markdown",
   "id": "e3b53159",
   "metadata": {},
   "source": [
    "### **Import the required libraries**"
   ]
  },
  {
   "cell_type": "code",
   "execution_count": 2,
   "id": "6176e8ba",
   "metadata": {},
   "outputs": [],
   "source": [
    "import pandas as pd\n",
    "from datetime import datetime\n",
    "import matplotlib.pyplot as plt\n",
    "from scipy.signal import find_peaks"
   ]
  },
  {
   "cell_type": "markdown",
   "id": "3800c796",
   "metadata": {},
   "source": [
    "### **Define the parser required to read the timestamp**"
   ]
  },
  {
   "cell_type": "code",
   "execution_count": 3,
   "id": "797e187c",
   "metadata": {},
   "outputs": [],
   "source": [
    "def custom_date_parser(a):\n",
    "    return datetime.strptime(a, '%d-%m-%Y %H:%M_%S.%f')"
   ]
  },
  {
   "cell_type": "markdown",
   "id": "806f7188",
   "metadata": {},
   "source": [
    "### **Define the dataframe**"
   ]
  },
  {
   "cell_type": "code",
   "execution_count": 5,
   "id": "42479152",
   "metadata": {},
   "outputs": [],
   "source": [
    "df = pd.read_csv(\n",
    "    '~/Downloads/Fluorometer/Basil_Trial/03-07-22/03-07-2022_05_00.csv',\n",
    "    parse_dates=['Timestamp'],\n",
    "    date_parser=custom_date_parser)\n",
    "x = df['Timestamp']\n",
    "y = df['Mean_values']"
   ]
  },
  {
   "cell_type": "markdown",
   "id": "81f8d668",
   "metadata": {},
   "source": [
    "### **Find the peaks on the signal**"
   ]
  },
  {
   "cell_type": "code",
   "execution_count": 8,
   "id": "b32cf9c2",
   "metadata": {},
   "outputs": [],
   "source": [
    "# As per accepted answer here:\n",
    "# https://stackoverflow.com/questions/1713335/peak-finding-algorithm-for-python-scipy\n",
    "peaks, _ = find_peaks(y, prominence=6)"
   ]
  },
  {
   "cell_type": "markdown",
   "id": "9667cb27",
   "metadata": {},
   "source": [
    "### **Find the lowest points in the graph or valleys**"
   ]
  },
  {
   "cell_type": "code",
   "execution_count": 9,
   "id": "3d5ed012",
   "metadata": {},
   "outputs": [],
   "source": [
    "# Invert the data to find the lowest points of peaks as per answer here:\n",
    "# https://stackoverflow.com/questions/61365881/is-there-an-opposite-version-of-scipy-find-peaks\n",
    "valleys, _ = find_peaks(-y, prominence=1)"
   ]
  },
  {
   "cell_type": "code",
   "execution_count": 11,
   "id": "dc49b6b1",
   "metadata": {},
   "outputs": [],
   "source": [
    "# valley in the short time period before a peak\n",
    "# set time window, e.g., for 200 ms\n",
    "time_window_size = pd.Timedelta(4000, unit=\"ms\")\n",
    "time_of_peaks = x[peaks]\n",
    "peak_start = x.searchsorted(time_of_peaks - time_window_size)"
   ]
  },
  {
   "cell_type": "code",
   "execution_count": 12,
   "id": "aadc7c73",
   "metadata": {},
   "outputs": [],
   "source": [
    "# in case of evenly spaced data points, this can be simplified,\n",
    "# and you just add n data points to your peak index array\n",
    "# peak_start = peaks - n\n",
    "true_valleys = peaks.copy()\n",
    "for i, (start, stop) in enumerate(zip(peak_start, peaks)):\n",
    "    true_valleys[i] = start + y[start:stop].argmin()"
   ]
  },
  {
   "cell_type": "markdown",
   "id": "a9540aab",
   "metadata": {},
   "source": [
    "### **Find the first peak and valley to calculate NPQ**"
   ]
  },
  {
   "cell_type": "code",
   "execution_count": 13,
   "id": "33ec09cd",
   "metadata": {},
   "outputs": [],
   "source": [
    " first_peak = y[peaks[0]]\n",
    "first_valley = y[true_valleys[0]]"
   ]
  },
  {
   "cell_type": "markdown",
   "id": "28b68d5f",
   "metadata": {},
   "source": [
    "### **Find the latest peak and valley to calculate PSII**"
   ]
  },
  {
   "cell_type": "code",
   "execution_count": 15,
   "id": "85ff4c78",
   "metadata": {},
   "outputs": [],
   "source": [
    "last_peak = y[peaks[-1]]\n",
    "last_valley = y[true_valleys[-1]]"
   ]
  },
  {
   "cell_type": "markdown",
   "id": "b14602e3",
   "metadata": {},
   "source": [
    "### **Assign numbers to each peak and valley value using enumerate**"
   ]
  },
  {
   "cell_type": "code",
   "execution_count": 16,
   "id": "03af5960",
   "metadata": {},
   "outputs": [
    {
     "name": "stdout",
     "output_type": "stream",
     "text": [
      "1 162.32178385416668\n",
      "2 153.43668294270833\n",
      "3 154.26710286458334\n",
      "4 154.33011067708335\n",
      "5 155.416533203125\n",
      "6 156.04002929687502\n",
      "7 156.64825846354168\n",
      "8 157.21987304687502\n",
      "9 156.72741861979168\n",
      "10 156.61253580729166\n",
      "11 156.4665234375\n",
      "12 156.92754557291667\n",
      "13 157.1797330729167\n",
      "14 157.66570312500002\n",
      "15 157.37735026041668\n",
      "16 157.75030924479168\n",
      "17 68.12322591145833\n",
      "18 157.9852115885417\n",
      "19 158.34812174479168\n",
      "20 158.45870768229167\n",
      "21 158.59964192708335\n",
      "22 159.0088346354167\n",
      "23 159.34180338541668\n",
      "24 159.62240885416668\n",
      "25 159.58926432291668\n",
      "26 159.65887369791668\n",
      "27 159.50570638020835\n",
      "28 159.32943359375\n",
      "29 159.00308919270833\n",
      "30 158.45788085937502\n"
     ]
    }
   ],
   "source": [
    "for index, val in enumerate(y[peaks], start=1):\n",
    "    print(index, val)"
   ]
  },
  {
   "cell_type": "markdown",
   "id": "2fe5049f",
   "metadata": {},
   "source": [
    "### **Assign numbers to each valley value using enumerate**"
   ]
  },
  {
   "cell_type": "code",
   "execution_count": 17,
   "id": "c3b6c2ec",
   "metadata": {},
   "outputs": [
    {
     "name": "stdout",
     "output_type": "stream",
     "text": [
      "1 0.0\n",
      "2 0.0\n",
      "3 59.23281901041667\n",
      "4 58.175712890625\n",
      "5 58.065664062500005\n",
      "6 58.07699544270834\n",
      "7 58.22234375\n",
      "8 58.420520833333335\n",
      "9 58.334482421875\n",
      "10 58.388017578125\n",
      "11 58.352337239583335\n",
      "12 58.70039713541667\n",
      "13 58.84998697916667\n",
      "14 59.10559244791667\n",
      "15 59.40233723958334\n",
      "16 59.63771484375\n",
      "17 59.87262369791667\n",
      "18 59.88905924479167\n",
      "19 60.12600911458334\n",
      "20 60.23269205729167\n",
      "21 60.39392252604167\n",
      "22 60.518499348958336\n",
      "23 60.71870442708334\n",
      "24 60.900188802083335\n",
      "25 60.90847005208334\n",
      "26 60.92974934895834\n",
      "27 60.91934895833334\n",
      "28 60.790449218750005\n",
      "29 60.51584635416667\n",
      "30 60.145061848958335\n"
     ]
    }
   ],
   "source": [
    "for index, val in enumerate(y[true_valleys], start=1):\n",
    "    print(index, val)"
   ]
  },
  {
   "cell_type": "markdown",
   "id": "b3f57f14",
   "metadata": {},
   "source": [
    "### **PSII Formula Fq'/Fm' (as per nomenclature of Murchie & Lawson 2013)**"
   ]
  },
  {
   "cell_type": "code",
   "execution_count": 18,
   "id": "c2a85f1c",
   "metadata": {},
   "outputs": [],
   "source": [
    "PSII = (last_peak - last_valley) / last_peak"
   ]
  },
  {
   "cell_type": "markdown",
   "id": "745ee750",
   "metadata": {},
   "source": [
    "### **NPQ Formula (Fm - Fm')/Fm' as per Murchie & Lawson 2013**"
   ]
  },
  {
   "cell_type": "code",
   "execution_count": 19,
   "id": "2e5f3d2c",
   "metadata": {},
   "outputs": [],
   "source": [
    "NPQ = (first_peak - last_peak) / last_peak"
   ]
  },
  {
   "cell_type": "markdown",
   "id": "237c8ade",
   "metadata": {},
   "source": [
    "### **Print the results**"
   ]
  },
  {
   "cell_type": "code",
   "execution_count": 20,
   "id": "7f9ef038",
   "metadata": {},
   "outputs": [
    {
     "name": "stdout",
     "output_type": "stream",
     "text": [
      "162.32178385416668\n",
      "0.0\n",
      "158.45788085937502\n",
      "60.145061848958335\n",
      "The PSII is: 0.6204350233464585\n",
      "The NPQ is: 0.024384416690645488\n"
     ]
    }
   ],
   "source": [
    "print(first_peak)\n",
    "print(first_valley)\n",
    "print(last_peak)\n",
    "print(last_valley)\n",
    "print('The PSII is:', PSII)\n",
    "print('The NPQ is:', NPQ)"
   ]
  },
  {
   "cell_type": "markdown",
   "id": "b2e2a116",
   "metadata": {},
   "source": [
    "### **Save the dataframe**"
   ]
  },
  {
   "cell_type": "code",
   "execution_count": 21,
   "id": "d284e134",
   "metadata": {},
   "outputs": [],
   "source": [
    "pd.DataFrame({'True Valleys': y[true_valleys], 'Peaks': y[peaks]})\\\n",
    "    .to_csv('~/Downloads/Fluorometer/Basil_Trial/03-07-22/03-07-2022_05_00_peaks_valleys.csv', index=False)"
   ]
  },
  {
   "cell_type": "code",
   "execution_count": 24,
   "id": "4961f687",
   "metadata": {},
   "outputs": [
    {
     "data": {
      "image/png": "[encoded data removed]",
      "text/plain": [
       "<Figure size 1152x720 with 2 Axes>"
      ]
     },
     "metadata": {
      "needs_background": "light"
     },
     "output_type": "display_data"
    }
   ],
   "source": [
    "fig, (ax1, ax2) = plt.subplots(2, figsize=(16, 10))\n",
    "ax1.plot(x[peaks], y[peaks], \"ob\")\n",
    "ax1.plot(x, y)\n",
    "ax1.grid()\n",
    "ax1.legend(['Fm'])\n",
    "ax2.plot(x[true_valleys], y[true_valleys], \"sr\")\n",
    "ax2.plot(x, y)\n",
    "ax2.legend(['F′'])\n",
    "ax2.grid()\n",
    "plt.show()"
   ]
  },
  {
   "cell_type": "code",
   "execution_count": null,
   "id": "07d32470",
   "metadata": {},
   "outputs": [],
   "source": []
  }
 ],
 "metadata": {
  "kernelspec": {
   "display_name": "Python 3 (ipykernel)",
   "language": "python",
   "name": "python3"
  },
  "language_info": {
   "codemirror_mode": {
    "name": "ipython",
    "version": 3
   },
   "file_extension": ".py",
   "mimetype": "text/x-python",
   "name": "python",
   "nbconvert_exporter": "python",
   "pygments_lexer": "ipython3",
   "version": "3.9.13"
  }
 },
 "nbformat": 4,
 "nbformat_minor": 5
}
