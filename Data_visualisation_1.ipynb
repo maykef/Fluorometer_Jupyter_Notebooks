{
 "cells": [
  {
   "cell_type": "markdown",
   "id": "6f18e61f",
   "metadata": {},
   "source": [
    "# This script adds the initial result of F0 to the True Valleys / Peaks results"
   ]
  },
  {
   "cell_type": "markdown",
   "id": "cdec1bfc",
   "metadata": {},
   "source": [
    "### **Load the required libraries**"
   ]
  },
  {
   "cell_type": "code",
   "execution_count": 83,
   "id": "62ba5513",
   "metadata": {},
   "outputs": [],
   "source": [
    "import pandas as pd\n",
    "import numpy as np\n",
    "import matplotlib.pyplot as plt"
   ]
  },
  {
   "cell_type": "markdown",
   "id": "aebf5df6",
   "metadata": {},
   "source": [
    "### **Load the csv file using pd.read_csv**"
   ]
  },
  {
   "cell_type": "code",
   "execution_count": 84,
   "id": "7a08628b",
   "metadata": {},
   "outputs": [],
   "source": [
    "data = pd.read_csv('~/Downloads/Fluorometer/Basil_Trial/01-07-22/01-07-2022_05_00_peaks_valleys_2.csv')"
   ]
  },
  {
   "cell_type": "markdown",
   "id": "4d8cc33d",
   "metadata": {},
   "source": [
    "### **Inspect the Dataset**"
   ]
  },
  {
   "cell_type": "code",
   "execution_count": 85,
   "id": "7e65dd61",
   "metadata": {},
   "outputs": [
    {
     "name": "stdout",
     "output_type": "stream",
     "text": [
      "<class 'pandas.core.frame.DataFrame'>\n",
      "RangeIndex: 29 entries, 0 to 28\n",
      "Data columns (total 2 columns):\n",
      " #   Column        Non-Null Count  Dtype  \n",
      "---  ------        --------------  -----  \n",
      " 0   True Valleys  29 non-null     float64\n",
      " 1   Peaks         29 non-null     float64\n",
      "dtypes: float64(2)\n",
      "memory usage: 592.0 bytes\n"
     ]
    }
   ],
   "source": [
    "data.info()"
   ]
  },
  {
   "cell_type": "code",
   "execution_count": 86,
   "id": "df8ab87b",
   "metadata": {},
   "outputs": [
    {
     "data": {
      "text/html": [
       "<div>\n",
       "<style scoped>\n",
       "    .dataframe tbody tr th:only-of-type {\n",
       "        vertical-align: middle;\n",
       "    }\n",
       "\n",
       "    .dataframe tbody tr th {\n",
       "        vertical-align: top;\n",
       "    }\n",
       "\n",
       "    .dataframe thead th {\n",
       "        text-align: right;\n",
       "    }\n",
       "</style>\n",
       "<table border=\"1\" class=\"dataframe\">\n",
       "  <thead>\n",
       "    <tr style=\"text-align: right;\">\n",
       "      <th></th>\n",
       "      <th>True Valleys</th>\n",
       "      <th>Peaks</th>\n",
       "    </tr>\n",
       "  </thead>\n",
       "  <tbody>\n",
       "    <tr>\n",
       "      <th>0</th>\n",
       "      <td>0.000000</td>\n",
       "      <td>143.494007</td>\n",
       "    </tr>\n",
       "    <tr>\n",
       "      <th>1</th>\n",
       "      <td>0.000000</td>\n",
       "      <td>135.929639</td>\n",
       "    </tr>\n",
       "    <tr>\n",
       "      <th>2</th>\n",
       "      <td>48.864551</td>\n",
       "      <td>134.303128</td>\n",
       "    </tr>\n",
       "    <tr>\n",
       "      <th>3</th>\n",
       "      <td>48.384440</td>\n",
       "      <td>135.013913</td>\n",
       "    </tr>\n",
       "    <tr>\n",
       "      <th>4</th>\n",
       "      <td>48.253145</td>\n",
       "      <td>135.334954</td>\n",
       "    </tr>\n",
       "  </tbody>\n",
       "</table>\n",
       "</div>"
      ],
      "text/plain": [
       "   True Valleys       Peaks\n",
       "0      0.000000  143.494007\n",
       "1      0.000000  135.929639\n",
       "2     48.864551  134.303128\n",
       "3     48.384440  135.013913\n",
       "4     48.253145  135.334954"
      ]
     },
     "execution_count": 86,
     "metadata": {},
     "output_type": "execute_result"
    }
   ],
   "source": [
    "data.head()"
   ]
  },
  {
   "cell_type": "markdown",
   "id": "f38b5515",
   "metadata": {},
   "source": [
    "### **Eliminate the first two rows of the dataset**"
   ]
  },
  {
   "cell_type": "code",
   "execution_count": 87,
   "id": "7852adfd",
   "metadata": {},
   "outputs": [
    {
     "data": {
      "text/html": [
       "<div>\n",
       "<style scoped>\n",
       "    .dataframe tbody tr th:only-of-type {\n",
       "        vertical-align: middle;\n",
       "    }\n",
       "\n",
       "    .dataframe tbody tr th {\n",
       "        vertical-align: top;\n",
       "    }\n",
       "\n",
       "    .dataframe thead th {\n",
       "        text-align: right;\n",
       "    }\n",
       "</style>\n",
       "<table border=\"1\" class=\"dataframe\">\n",
       "  <thead>\n",
       "    <tr style=\"text-align: right;\">\n",
       "      <th></th>\n",
       "      <th>True Valleys</th>\n",
       "      <th>Peaks</th>\n",
       "    </tr>\n",
       "  </thead>\n",
       "  <tbody>\n",
       "    <tr>\n",
       "      <th>2</th>\n",
       "      <td>48.864551</td>\n",
       "      <td>134.303128</td>\n",
       "    </tr>\n",
       "    <tr>\n",
       "      <th>3</th>\n",
       "      <td>48.384440</td>\n",
       "      <td>135.013913</td>\n",
       "    </tr>\n",
       "    <tr>\n",
       "      <th>4</th>\n",
       "      <td>48.253145</td>\n",
       "      <td>135.334954</td>\n",
       "    </tr>\n",
       "    <tr>\n",
       "      <th>5</th>\n",
       "      <td>48.478275</td>\n",
       "      <td>136.495993</td>\n",
       "    </tr>\n",
       "    <tr>\n",
       "      <th>6</th>\n",
       "      <td>48.875127</td>\n",
       "      <td>137.118678</td>\n",
       "    </tr>\n",
       "  </tbody>\n",
       "</table>\n",
       "</div>"
      ],
      "text/plain": [
       "   True Valleys       Peaks\n",
       "2     48.864551  134.303128\n",
       "3     48.384440  135.013913\n",
       "4     48.253145  135.334954\n",
       "5     48.478275  136.495993\n",
       "6     48.875127  137.118678"
      ]
     },
     "execution_count": 87,
     "metadata": {},
     "output_type": "execute_result"
    }
   ],
   "source": [
    "data2 = data.iloc[2:]\n",
    "data2.head()"
   ]
  },
  {
   "cell_type": "markdown",
   "id": "632cf22b",
   "metadata": {},
   "source": [
    "### **Add the F0 value to the dataset columns**"
   ]
  },
  {
   "cell_type": "code",
   "execution_count": 88,
   "id": "7f505994",
   "metadata": {},
   "outputs": [
    {
     "data": {
      "text/html": [
       "<div>\n",
       "<style scoped>\n",
       "    .dataframe tbody tr th:only-of-type {\n",
       "        vertical-align: middle;\n",
       "    }\n",
       "\n",
       "    .dataframe tbody tr th {\n",
       "        vertical-align: top;\n",
       "    }\n",
       "\n",
       "    .dataframe thead th {\n",
       "        text-align: right;\n",
       "    }\n",
       "</style>\n",
       "<table border=\"1\" class=\"dataframe\">\n",
       "  <thead>\n",
       "    <tr style=\"text-align: right;\">\n",
       "      <th></th>\n",
       "      <th>True Valleys</th>\n",
       "      <th>Peaks</th>\n",
       "    </tr>\n",
       "  </thead>\n",
       "  <tbody>\n",
       "    <tr>\n",
       "      <th>2</th>\n",
       "      <td>54.364551</td>\n",
       "      <td>139.803128</td>\n",
       "    </tr>\n",
       "    <tr>\n",
       "      <th>3</th>\n",
       "      <td>53.884440</td>\n",
       "      <td>140.513913</td>\n",
       "    </tr>\n",
       "    <tr>\n",
       "      <th>4</th>\n",
       "      <td>53.753145</td>\n",
       "      <td>140.834954</td>\n",
       "    </tr>\n",
       "    <tr>\n",
       "      <th>5</th>\n",
       "      <td>53.978275</td>\n",
       "      <td>141.995993</td>\n",
       "    </tr>\n",
       "    <tr>\n",
       "      <th>6</th>\n",
       "      <td>54.375127</td>\n",
       "      <td>142.618678</td>\n",
       "    </tr>\n",
       "  </tbody>\n",
       "</table>\n",
       "</div>"
      ],
      "text/plain": [
       "   True Valleys       Peaks\n",
       "2     54.364551  139.803128\n",
       "3     53.884440  140.513913\n",
       "4     53.753145  140.834954\n",
       "5     53.978275  141.995993\n",
       "6     54.375127  142.618678"
      ]
     },
     "execution_count": 88,
     "metadata": {},
     "output_type": "execute_result"
    }
   ],
   "source": [
    "new_value = data2 + 5.5\n",
    "new_value.head()"
   ]
  },
  {
   "cell_type": "markdown",
   "id": "463a687e",
   "metadata": {},
   "source": [
    "### **Create a new column called PSII and add the values of the formula Fq'/Fm' or PSII = (last_peak - last_valley) / last_peak**"
   ]
  },
  {
   "cell_type": "code",
   "execution_count": 89,
   "id": "7a99b46f",
   "metadata": {},
   "outputs": [
    {
     "data": {
      "text/html": [
       "<div>\n",
       "<style scoped>\n",
       "    .dataframe tbody tr th:only-of-type {\n",
       "        vertical-align: middle;\n",
       "    }\n",
       "\n",
       "    .dataframe tbody tr th {\n",
       "        vertical-align: top;\n",
       "    }\n",
       "\n",
       "    .dataframe thead th {\n",
       "        text-align: right;\n",
       "    }\n",
       "</style>\n",
       "<table border=\"1\" class=\"dataframe\">\n",
       "  <thead>\n",
       "    <tr style=\"text-align: right;\">\n",
       "      <th></th>\n",
       "      <th>True Valleys</th>\n",
       "      <th>Peaks</th>\n",
       "      <th>PSII</th>\n",
       "    </tr>\n",
       "  </thead>\n",
       "  <tbody>\n",
       "    <tr>\n",
       "      <th>2</th>\n",
       "      <td>54.364551</td>\n",
       "      <td>139.803128</td>\n",
       "      <td>0.611135</td>\n",
       "    </tr>\n",
       "    <tr>\n",
       "      <th>3</th>\n",
       "      <td>53.884440</td>\n",
       "      <td>140.513913</td>\n",
       "      <td>0.616519</td>\n",
       "    </tr>\n",
       "    <tr>\n",
       "      <th>4</th>\n",
       "      <td>53.753145</td>\n",
       "      <td>140.834954</td>\n",
       "      <td>0.618325</td>\n",
       "    </tr>\n",
       "    <tr>\n",
       "      <th>5</th>\n",
       "      <td>53.978275</td>\n",
       "      <td>141.995993</td>\n",
       "      <td>0.619861</td>\n",
       "    </tr>\n",
       "    <tr>\n",
       "      <th>6</th>\n",
       "      <td>54.375127</td>\n",
       "      <td>142.618678</td>\n",
       "      <td>0.618738</td>\n",
       "    </tr>\n",
       "  </tbody>\n",
       "</table>\n",
       "</div>"
      ],
      "text/plain": [
       "   True Valleys       Peaks      PSII\n",
       "2     54.364551  139.803128  0.611135\n",
       "3     53.884440  140.513913  0.616519\n",
       "4     53.753145  140.834954  0.618325\n",
       "5     53.978275  141.995993  0.619861\n",
       "6     54.375127  142.618678  0.618738"
      ]
     },
     "execution_count": 89,
     "metadata": {},
     "output_type": "execute_result"
    }
   ],
   "source": [
    "new_value['PSII'] = (new_value['Peaks']-new_value['True Valleys'])/new_value['Peaks'] \n",
    "new_value.head()"
   ]
  },
  {
   "cell_type": "markdown",
   "id": "25b111dc",
   "metadata": {},
   "source": [
    "### **We need to find the value of the first peak which we deleted in step 4 so, we revert back to the original 'data' dataframe, add F0, then delete all the rows except the first one.**"
   ]
  },
  {
   "cell_type": "code",
   "execution_count": 90,
   "id": "5b133b4c",
   "metadata": {},
   "outputs": [
    {
     "name": "stdout",
     "output_type": "stream",
     "text": [
      "<class 'pandas.core.series.Series'>\n",
      "RangeIndex: 1 entries, 0 to 0\n",
      "Series name: Peaks\n",
      "Non-Null Count  Dtype  \n",
      "--------------  -----  \n",
      "1 non-null      float64\n",
      "dtypes: float64(1)\n",
      "memory usage: 136.0 bytes\n"
     ]
    },
    {
     "data": {
      "text/plain": [
       "0    148.994007\n",
       "Name: Peaks, dtype: float64"
      ]
     },
     "execution_count": 90,
     "metadata": {},
     "output_type": "execute_result"
    }
   ],
   "source": [
    "fixed_value = data['Peaks']\n",
    "fixed_value = fixed_value + 5.5\n",
    "fixed_value = fixed_value.iloc[:-28]\n",
    "fixed_value.info()\n",
    "fixed_value.head()"
   ]
  },
  {
   "cell_type": "markdown",
   "id": "e05a884e",
   "metadata": {},
   "source": [
    "### **Let's calculate NPQ based on the formula NPQ = (first_peak - last_peak) / last_peak**"
   ]
  },
  {
   "cell_type": "code",
   "execution_count": 91,
   "id": "77c44246",
   "metadata": {},
   "outputs": [
    {
     "data": {
      "text/html": [
       "<div>\n",
       "<style scoped>\n",
       "    .dataframe tbody tr th:only-of-type {\n",
       "        vertical-align: middle;\n",
       "    }\n",
       "\n",
       "    .dataframe tbody tr th {\n",
       "        vertical-align: top;\n",
       "    }\n",
       "\n",
       "    .dataframe thead th {\n",
       "        text-align: right;\n",
       "    }\n",
       "</style>\n",
       "<table border=\"1\" class=\"dataframe\">\n",
       "  <thead>\n",
       "    <tr style=\"text-align: right;\">\n",
       "      <th></th>\n",
       "      <th>True Valleys</th>\n",
       "      <th>Peaks</th>\n",
       "      <th>PSII</th>\n",
       "      <th>NPQ</th>\n",
       "    </tr>\n",
       "  </thead>\n",
       "  <tbody>\n",
       "    <tr>\n",
       "      <th>2</th>\n",
       "      <td>54.364551</td>\n",
       "      <td>139.803128</td>\n",
       "      <td>0.611135</td>\n",
       "      <td>0.065742</td>\n",
       "    </tr>\n",
       "    <tr>\n",
       "      <th>3</th>\n",
       "      <td>53.884440</td>\n",
       "      <td>140.513913</td>\n",
       "      <td>0.616519</td>\n",
       "      <td>0.060351</td>\n",
       "    </tr>\n",
       "    <tr>\n",
       "      <th>4</th>\n",
       "      <td>53.753145</td>\n",
       "      <td>140.834954</td>\n",
       "      <td>0.618325</td>\n",
       "      <td>0.057933</td>\n",
       "    </tr>\n",
       "    <tr>\n",
       "      <th>5</th>\n",
       "      <td>53.978275</td>\n",
       "      <td>141.995993</td>\n",
       "      <td>0.619861</td>\n",
       "      <td>0.049283</td>\n",
       "    </tr>\n",
       "    <tr>\n",
       "      <th>6</th>\n",
       "      <td>54.375127</td>\n",
       "      <td>142.618678</td>\n",
       "      <td>0.618738</td>\n",
       "      <td>0.044702</td>\n",
       "    </tr>\n",
       "  </tbody>\n",
       "</table>\n",
       "</div>"
      ],
      "text/plain": [
       "   True Valleys       Peaks      PSII       NPQ\n",
       "2     54.364551  139.803128  0.611135  0.065742\n",
       "3     53.884440  140.513913  0.616519  0.060351\n",
       "4     53.753145  140.834954  0.618325  0.057933\n",
       "5     53.978275  141.995993  0.619861  0.049283\n",
       "6     54.375127  142.618678  0.618738  0.044702"
      ]
     },
     "execution_count": 91,
     "metadata": {},
     "output_type": "execute_result"
    }
   ],
   "source": [
    "new_value['NPQ'] = (fixed_value[0] - new_value['Peaks'])/new_value['Peaks']\n",
    "new_value.head()"
   ]
  },
  {
   "cell_type": "markdown",
   "id": "f5286a41",
   "metadata": {},
   "source": [
    "### **Let's calculate now the relative Electron Transport Rate (rETR) using PSII x 284 x 0.5 x 0.84**"
   ]
  },
  {
   "cell_type": "code",
   "execution_count": 92,
   "id": "b8f22841",
   "metadata": {},
   "outputs": [
    {
     "data": {
      "text/html": [
       "<div>\n",
       "<style scoped>\n",
       "    .dataframe tbody tr th:only-of-type {\n",
       "        vertical-align: middle;\n",
       "    }\n",
       "\n",
       "    .dataframe tbody tr th {\n",
       "        vertical-align: top;\n",
       "    }\n",
       "\n",
       "    .dataframe thead th {\n",
       "        text-align: right;\n",
       "    }\n",
       "</style>\n",
       "<table border=\"1\" class=\"dataframe\">\n",
       "  <thead>\n",
       "    <tr style=\"text-align: right;\">\n",
       "      <th></th>\n",
       "      <th>True Valleys</th>\n",
       "      <th>Peaks</th>\n",
       "      <th>PSII</th>\n",
       "      <th>NPQ</th>\n",
       "      <th>rETR</th>\n",
       "    </tr>\n",
       "  </thead>\n",
       "  <tbody>\n",
       "    <tr>\n",
       "      <th>2</th>\n",
       "      <td>54.364551</td>\n",
       "      <td>139.803128</td>\n",
       "      <td>0.611135</td>\n",
       "      <td>0.065742</td>\n",
       "      <td>72.896177</td>\n",
       "    </tr>\n",
       "    <tr>\n",
       "      <th>3</th>\n",
       "      <td>53.884440</td>\n",
       "      <td>140.513913</td>\n",
       "      <td>0.616519</td>\n",
       "      <td>0.060351</td>\n",
       "      <td>73.538366</td>\n",
       "    </tr>\n",
       "    <tr>\n",
       "      <th>4</th>\n",
       "      <td>53.753145</td>\n",
       "      <td>140.834954</td>\n",
       "      <td>0.618325</td>\n",
       "      <td>0.057933</td>\n",
       "      <td>73.753837</td>\n",
       "    </tr>\n",
       "    <tr>\n",
       "      <th>5</th>\n",
       "      <td>53.978275</td>\n",
       "      <td>141.995993</td>\n",
       "      <td>0.619861</td>\n",
       "      <td>0.049283</td>\n",
       "      <td>73.936970</td>\n",
       "    </tr>\n",
       "    <tr>\n",
       "      <th>6</th>\n",
       "      <td>54.375127</td>\n",
       "      <td>142.618678</td>\n",
       "      <td>0.618738</td>\n",
       "      <td>0.044702</td>\n",
       "      <td>73.803032</td>\n",
       "    </tr>\n",
       "  </tbody>\n",
       "</table>\n",
       "</div>"
      ],
      "text/plain": [
       "   True Valleys       Peaks      PSII       NPQ       rETR\n",
       "2     54.364551  139.803128  0.611135  0.065742  72.896177\n",
       "3     53.884440  140.513913  0.616519  0.060351  73.538366\n",
       "4     53.753145  140.834954  0.618325  0.057933  73.753837\n",
       "5     53.978275  141.995993  0.619861  0.049283  73.936970\n",
       "6     54.375127  142.618678  0.618738  0.044702  73.803032"
      ]
     },
     "execution_count": 92,
     "metadata": {},
     "output_type": "execute_result"
    }
   ],
   "source": [
    "new_value['rETR'] = new_value['PSII'] * 284 * 0.5 * 0.84\n",
    "new_value.head()"
   ]
  },
  {
   "cell_type": "markdown",
   "id": "4e940bdd",
   "metadata": {},
   "source": [
    "### **Plot NPQ against rETR**"
   ]
  },
  {
   "cell_type": "code",
   "execution_count": 113,
   "id": "17a98bda",
   "metadata": {},
   "outputs": [
    {
     "data": {
      "image/png": "[encoded data removed]",
      "text/plain": [
       "<Figure size 992.126x708.661 with 2 Axes>"
      ]
     },
     "metadata": {
      "needs_background": "light"
     },
     "output_type": "display_data"
    }
   ],
   "source": [
    "cm = 1/2.54\n",
    "fig, ax = plt.subplots(figsize=(35*cm, 25*cm))\n",
    "plt.title('NPQ vs rETR', fontsize= 32)\n",
    "ax.plot(new_value['NPQ'], color = 'red', marker = 'o')\n",
    "ax.set_xlabel('Pulses', fontsize = 18)\n",
    "ax.set_ylabel('NPQ', color = 'red', fontsize = 18)\n",
    "plt.ylim(ymin = -0.02, ymax = 0.10)\n",
    "ax2 = ax.twinx()\n",
    "ax2.plot(new_value['rETR'], color = 'blue', marker = '>')\n",
    "ax2.set_ylabel('rETR', color = 'blue', fontsize = 18)\n",
    "plt.ylim(ymin = 65, ymax = 75)\n",
    "plt.show()"
   ]
  },
  {
   "cell_type": "code",
   "execution_count": null,
   "id": "1a895d15",
   "metadata": {},
   "outputs": [],
   "source": []
  }
 ],
 "metadata": {
  "kernelspec": {
   "display_name": "Python 3 (ipykernel)",
   "language": "python",
   "name": "python3"
  },
  "language_info": {
   "codemirror_mode": {
    "name": "ipython",
    "version": 3
   },
   "file_extension": ".py",
   "mimetype": "text/x-python",
   "name": "python",
   "nbconvert_exporter": "python",
   "pygments_lexer": "ipython3",
   "version": "3.9.13"
  }
 },
 "nbformat": 4,
 "nbformat_minor": 5
}
